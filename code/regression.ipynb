{
 "cells": [
  {
   "cell_type": "code",
   "execution_count": 1,
   "metadata": {},
   "outputs": [],
   "source": [
    "import pandas as pd\n",
    "from sklearn.preprocessing import StandardScaler\n",
    "from sklearn.linear_model import LinearRegression\n",
    "from sklearn.model_selection import train_test_split\n",
    "import numpy as np\n",
    "from sklearn.metrics import mean_squared_error\n",
    "from xgboost import XGBRegressor\n",
    "\n",
    "pd.set_option('display.max_columns', None)"
   ]
  },
  {
   "cell_type": "code",
   "execution_count": 2,
   "metadata": {},
   "outputs": [],
   "source": [
    "# preprocess data using standard scaler\n",
    "# the scaler object is reused when evaluating the model\n",
    "\n",
    "def preprocess_data(df, features, target_variable, scaler=None):\n",
    "    X = df[features]\n",
    "    y = df[target_variable]\n",
    "    \n",
    "    if scaler is None: \n",
    "        scaler = StandardScaler()\n",
    "        X = scaler.fit_transform(X)\n",
    "    else:\n",
    "        X = scaler.transform(X)\n",
    "\n",
    "    return X, y, scaler"
   ]
  },
  {
   "cell_type": "code",
   "execution_count": 3,
   "metadata": {},
   "outputs": [],
   "source": [
    "# calculate r² and rmse\n",
    "\n",
    "def calculate_metrics(model, X, y_true):\n",
    "    y_pred = model.predict(X)\n",
    "\n",
    "    r_sq = model.score(X, y_true)\n",
    "    print(f\"coefficient of determination: {r_sq}\")\n",
    "\n",
    "    mse = mean_squared_error(y_true, y_pred) \n",
    "    print('RMSE: ', round(np.sqrt(mse),4))"
   ]
  },
  {
   "cell_type": "code",
   "execution_count": 4,
   "metadata": {},
   "outputs": [],
   "source": [
    "# read the 2 dataframes\n",
    "# preprocess data\n",
    "# fit model\n",
    "# evaluate model on test and eval data\n",
    "\n",
    "def build_model(model, features, df_path='../data/data_vessel2.csv', df_eval_path='../data/data_vessel1.csv', target_variable=\"Speed Through Water (knots)\", test_size = 0.25, random_state = 42):\n",
    "    df = pd.read_csv(df_path)\n",
    "    df_eval = pd.read_csv(df_eval_path)\n",
    "    \n",
    "    X, y, scaler = preprocess_data(df, features, target_variable)\n",
    "    X_train, X_test, y_train, y_test = train_test_split(X, y, test_size=test_size, random_state=random_state)\n",
    "\n",
    "    model.fit(X_train, y_train)\n",
    "    \n",
    "    print('Metrics on test set')\n",
    "    calculate_metrics(model, X_test, y_test)\n",
    "    \n",
    "    print('-'*30)\n",
    "\n",
    "    X_eval, y_eval, _ = preprocess_data(df_eval, features, target_variable, scaler)\n",
    "\n",
    "    print('Metrics on eval set')\n",
    "    calculate_metrics(model, X_eval, y_eval)\n",
    "\n",
    "    return model"
   ]
  },
  {
   "cell_type": "code",
   "execution_count": 5,
   "metadata": {},
   "outputs": [],
   "source": [
    "lr = LinearRegression()\n",
    "xgb = XGBRegressor(random_state=42)"
   ]
  },
  {
   "cell_type": "code",
   "execution_count": 6,
   "metadata": {},
   "outputs": [
    {
     "name": "stdout",
     "output_type": "stream",
     "text": [
      "Metrics on test set\n",
      "coefficient of determination: 0.8154794963170807\n",
      "RMSE:  3.2916\n",
      "------------------------------\n",
      "Metrics on eval set\n",
      "coefficient of determination: 0.8259371783529124\n",
      "RMSE:  3.1743\n"
     ]
    }
   ],
   "source": [
    "# use only 1 feature\n",
    "\n",
    "features = ['Propulsion Power (MW)']\n",
    "\n",
    "lr_model1 = build_model(lr, features)"
   ]
  },
  {
   "cell_type": "code",
   "execution_count": 7,
   "metadata": {},
   "outputs": [
    {
     "name": "stdout",
     "output_type": "stream",
     "text": [
      "Metrics on test set\n",
      "coefficient of determination: 0.9585003762412104\n",
      "RMSE:  1.561\n",
      "------------------------------\n",
      "Metrics on eval set\n",
      "coefficient of determination: 0.9664623709336826\n",
      "RMSE:  1.3933\n"
     ]
    }
   ],
   "source": [
    "xgb_model1 = build_model(xgb, features)"
   ]
  },
  {
   "cell_type": "code",
   "execution_count": 8,
   "metadata": {},
   "outputs": [
    {
     "name": "stdout",
     "output_type": "stream",
     "text": [
      "Metrics on test set\n",
      "coefficient of determination: 0.8622358241275337\n",
      "RMSE:  2.8442\n",
      "------------------------------\n",
      "Metrics on eval set\n",
      "coefficient of determination: 0.8513340971007143\n",
      "RMSE:  2.9336\n"
     ]
    }
   ],
   "source": [
    "# include other power consumption related features, and environmental effects\n",
    "# omit diesel generator power and main engine fuel flow rate as they are highly correlated with propulsion power\n",
    "\n",
    "features = ['Power Galley (MW)', 'Power Service (MW)', 'HVAC Chiller Power (MW)', 'Scrubber Power (MW)', 'Sea Temperature (Celsius)', 'Boiler Fuel Flow Rate (L/h)', 'Incinerator 1 Fuel Flow Rate (L/h)', 'Relative Wind Angle (Degrees)', 'Relative Wind Direction (Degrees)', 'Draft (m)', 'Relative Wind Speed (knots)', 'Trim (m)', 'Propulsion Power (MW)', 'Bow Thruster Power (MW)', 'Stern Thruster Power (MW)']\n",
    "\n",
    "lr_model = build_model(lr, features)"
   ]
  },
  {
   "cell_type": "code",
   "execution_count": 9,
   "metadata": {},
   "outputs": [
    {
     "name": "stdout",
     "output_type": "stream",
     "text": [
      "Metrics on test set\n",
      "coefficient of determination: 0.9919211436078355\n",
      "RMSE:  0.6888\n",
      "------------------------------\n",
      "Metrics on eval set\n",
      "coefficient of determination: 0.9420623195657902\n",
      "RMSE:  1.8313\n"
     ]
    }
   ],
   "source": [
    "xgb_model = build_model(xgb, features)"
   ]
  },
  {
   "cell_type": "code",
   "execution_count": 10,
   "metadata": {},
   "outputs": [
    {
     "name": "stdout",
     "output_type": "stream",
     "text": [
      "Top 5 key features for linear regression model:\n"
     ]
    },
    {
     "data": {
      "text/plain": [
       "Propulsion Power (MW)                 5.147457\n",
       "Sea Temperature (Celsius)            -1.030675\n",
       "Scrubber Power (MW)                   0.982692\n",
       "Boiler Fuel Flow Rate (L/h)          -0.816490\n",
       "Incinerator 1 Fuel Flow Rate (L/h)    0.730900\n",
       "dtype: float64"
      ]
     },
     "execution_count": 10,
     "metadata": {},
     "output_type": "execute_result"
    }
   ],
   "source": [
    "# show top 5 coefficients for linear regression model (values can be negative or greater than 1)\n",
    "\n",
    "coef = pd.Series(lr_model.coef_, index=features)\n",
    "coef_abs_sorted = coef.abs().sort_values(ascending=False)\n",
    "print('Top 5 key features for linear regression model:')\n",
    "coef[coef_abs_sorted.index][:5]"
   ]
  },
  {
   "cell_type": "code",
   "execution_count": 11,
   "metadata": {},
   "outputs": [
    {
     "name": "stdout",
     "output_type": "stream",
     "text": [
      "Top 5 key features for XGB regression model:\n"
     ]
    },
    {
     "data": {
      "text/plain": [
       "Propulsion Power (MW)                 0.934900\n",
       "Bow Thruster Power (MW)               0.019853\n",
       "Draft (m)                             0.008021\n",
       "Incinerator 1 Fuel Flow Rate (L/h)    0.006431\n",
       "Scrubber Power (MW)                   0.005884\n",
       "dtype: float32"
      ]
     },
     "execution_count": 11,
     "metadata": {},
     "output_type": "execute_result"
    }
   ],
   "source": [
    "# show top 5 important features for xgb regressor model (values are between 0-1)\n",
    "\n",
    "feature_importances = pd.Series(xgb_model.feature_importances_, index=features)\n",
    "feature_importances_sorted = feature_importances.sort_values(ascending=False)\n",
    "print('Top 5 key features for XGB regression model:')\n",
    "feature_importances_sorted[:5]"
   ]
  },
  {
   "cell_type": "code",
   "execution_count": null,
   "metadata": {},
   "outputs": [],
   "source": []
  }
 ],
 "metadata": {
  "kernelspec": {
   "display_name": ".env",
   "language": "python",
   "name": "python3"
  },
  "language_info": {
   "codemirror_mode": {
    "name": "ipython",
    "version": 3
   },
   "file_extension": ".py",
   "mimetype": "text/x-python",
   "name": "python",
   "nbconvert_exporter": "python",
   "pygments_lexer": "ipython3",
   "version": "3.11.0"
  }
 },
 "nbformat": 4,
 "nbformat_minor": 2
}
