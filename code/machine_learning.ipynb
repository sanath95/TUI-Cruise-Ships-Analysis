{
 "cells": [
  {
   "cell_type": "code",
   "execution_count": 1,
   "metadata": {},
   "outputs": [],
   "source": [
    "import pandas as pd\n",
    "from sklearn.preprocessing import StandardScaler\n",
    "from sklearn.linear_model import LinearRegression\n",
    "from sklearn.model_selection import train_test_split\n",
    "import numpy as np\n",
    "from sklearn.metrics import mean_squared_error\n",
    "from xgboost import XGBRegressor\n",
    "\n",
    "pd.set_option('display.max_columns', None)"
   ]
  },
  {
   "cell_type": "code",
   "execution_count": 2,
   "metadata": {},
   "outputs": [],
   "source": [
    "def preprocess_data(df, features, target_variable, scaler=None):\n",
    "    X = df[features]\n",
    "    y = df[target_variable]\n",
    "    \n",
    "    if scaler is None: \n",
    "        scaler = StandardScaler()\n",
    "        X = scaler.fit_transform(X)\n",
    "    else:\n",
    "        X = scaler.transform(X)\n",
    "\n",
    "    return X, y, scaler"
   ]
  },
  {
   "cell_type": "code",
   "execution_count": 3,
   "metadata": {},
   "outputs": [],
   "source": [
    "def calculate_metrics(model, X, y_true):\n",
    "    y_pred = model.predict(X)\n",
    "\n",
    "    r_sq = model.score(X, y_true)\n",
    "    print(f\"coefficient of determination: {r_sq}\")\n",
    "\n",
    "    mse = mean_squared_error(y_true, y_pred) \n",
    "    print('RMSE: ', round(np.sqrt(mse),4))"
   ]
  },
  {
   "cell_type": "code",
   "execution_count": 4,
   "metadata": {},
   "outputs": [],
   "source": [
    "def build_model(model, features, df_path='../data/data_vessel2.csv', df_eval_path='../data/data_vessel1.csv', target_variable=\"Speed Through Water (knots)\", test_size = 0.25, random_state = 42):\n",
    "    df = pd.read_csv(df_path)\n",
    "\n",
    "    df_eval = pd.read_csv(df_eval_path)\n",
    "    \n",
    "    X, y, scaler = preprocess_data(df, features, target_variable)\n",
    "    X_train, X_test, y_train, y_test = train_test_split(X, y, test_size=test_size, random_state=random_state)\n",
    "\n",
    "    model.fit(X_train, y_train)\n",
    "\n",
    "    print('Metrics on test set')\n",
    "    calculate_metrics(model, X_test, y_test)\n",
    "    \n",
    "    print('-'*30)\n",
    "\n",
    "    X_eval, y_eval, _ = preprocess_data(df_eval, features, target_variable, scaler)\n",
    "\n",
    "    print('Metrics on eval set')\n",
    "    calculate_metrics(model, X_eval, y_eval)\n",
    "\n",
    "    return model"
   ]
  },
  {
   "cell_type": "code",
   "execution_count": 5,
   "metadata": {},
   "outputs": [
    {
     "name": "stdout",
     "output_type": "stream",
     "text": [
      "Metrics on test set\n",
      "coefficient of determination: 0.8154794963170807\n",
      "RMSE:  3.2916\n",
      "------------------------------\n",
      "Metrics on eval set\n",
      "coefficient of determination: 0.8259371783529124\n",
      "RMSE:  3.1743\n"
     ]
    }
   ],
   "source": [
    "features = ['Propulsion Power (MW)']\n",
    "\n",
    "build_model(LinearRegression(), features)"
   ]
  },
  {
   "cell_type": "code",
   "execution_count": 6,
   "metadata": {},
   "outputs": [
    {
     "name": "stdout",
     "output_type": "stream",
     "text": [
      "Metrics on test set\n",
      "coefficient of determination: 0.9585003762412104\n",
      "RMSE:  1.561\n",
      "------------------------------\n",
      "Metrics on eval set\n",
      "coefficient of determination: 0.9664623709336826\n",
      "RMSE:  1.3933\n"
     ]
    }
   ],
   "source": [
    "build_model(XGBRegressor(), features)"
   ]
  },
  {
   "cell_type": "code",
   "execution_count": 7,
   "metadata": {},
   "outputs": [
    {
     "name": "stdout",
     "output_type": "stream",
     "text": [
      "Metrics on test set\n",
      "coefficient of determination: 0.8622358241275337\n",
      "RMSE:  2.8442\n",
      "------------------------------\n",
      "Metrics on eval set\n",
      "coefficient of determination: 0.8513340971007143\n",
      "RMSE:  2.9336\n"
     ]
    }
   ],
   "source": [
    "features = ['Power Galley (MW)', 'Power Service (MW)', 'HVAC Chiller Power (MW)', 'Scrubber Power (MW)', 'Sea Temperature (Celsius)', 'Boiler Fuel Flow Rate (L/h)', 'Incinerator 1 Fuel Flow Rate (L/h)', 'Relative Wind Angle (Degrees)', 'Relative Wind Direction (Degrees)', 'Draft (m)', 'Relative Wind Speed (knots)', 'Trim (m)', 'Propulsion Power (MW)', 'Bow Thruster Power (MW)', 'Stern Thruster Power (MW)']\n",
    "\n",
    "build_model(LinearRegression(), features)"
   ]
  },
  {
   "cell_type": "code",
   "execution_count": 8,
   "metadata": {},
   "outputs": [
    {
     "name": "stdout",
     "output_type": "stream",
     "text": [
      "Metrics on test set\n",
      "coefficient of determination: 0.9919211436078355\n",
      "RMSE:  0.6888\n",
      "------------------------------\n",
      "Metrics on eval set\n",
      "coefficient of determination: 0.9420623195657902\n",
      "RMSE:  1.8313\n"
     ]
    }
   ],
   "source": [
    "build_model(XGBRegressor(), features)"
   ]
  },
  {
   "cell_type": "code",
   "execution_count": null,
   "metadata": {},
   "outputs": [],
   "source": []
  }
 ],
 "metadata": {
  "kernelspec": {
   "display_name": ".env",
   "language": "python",
   "name": "python3"
  },
  "language_info": {
   "codemirror_mode": {
    "name": "ipython",
    "version": 3
   },
   "file_extension": ".py",
   "mimetype": "text/x-python",
   "name": "python",
   "nbconvert_exporter": "python",
   "pygments_lexer": "ipython3",
   "version": "3.11.0"
  }
 },
 "nbformat": 4,
 "nbformat_minor": 2
}
